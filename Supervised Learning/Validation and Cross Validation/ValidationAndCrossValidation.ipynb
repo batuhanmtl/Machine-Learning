{
 "cells": [
  {
   "cell_type": "markdown",
   "source": [
    "# VALIDATION AND CROSS VALIDATION"
   ],
   "metadata": {
    "collapsed": false,
    "pycharm": {
     "name": "#%% md\n"
    }
   }
  },
  {
   "cell_type": "markdown",
   "source": [
    "<b> Measuring the model success again on the data used to develop the model may not give us reliable results. We have already found the model using this data. The success of a model is measured by the success of its predictions using data it has never seen before. So where do we find this new data?\n",
    "The general practice is to divide the data we have into two and test the model we developed with the second one while developing the model with the first one. These two models are called the learning set (traning set) and the validation set (test set). Although it is not a general rule, 70% or 80% of the main data is 20% or 30% of the learning cluster is called the validation cluster. For a healthy model development, the learning and validation clusters must be randomly divided.</b>\n",
    "\n",
    "<b>Python sklearn module has train_test_split function which is used to split data into learning and validation clusters.</b>"
   ],
   "metadata": {
    "collapsed": false,
    "pycharm": {
     "name": "#%% md\n"
    }
   }
  },
  {
   "cell_type": "code",
   "execution_count": null,
   "outputs": [],
   "source": [
    "from sklearn.linear_model import LinearRegression\n"
   ],
   "metadata": {
    "collapsed": false,
    "pycharm": {
     "name": "#%%\n"
    }
   }
  }
 ],
 "metadata": {
  "kernelspec": {
   "display_name": "Python 3",
   "language": "python",
   "name": "python3"
  },
  "language_info": {
   "codemirror_mode": {
    "name": "ipython",
    "version": 2
   },
   "file_extension": ".py",
   "mimetype": "text/x-python",
   "name": "python",
   "nbconvert_exporter": "python",
   "pygments_lexer": "ipython2",
   "version": "2.7.6"
  }
 },
 "nbformat": 4,
 "nbformat_minor": 0
}