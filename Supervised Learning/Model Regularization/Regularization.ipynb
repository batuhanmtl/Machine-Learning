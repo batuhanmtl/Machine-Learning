{
 "cells": [
  {
   "cell_type": "markdown",
   "source": [
    "# MODEL REGULARIZATION"
   ],
   "metadata": {
    "collapsed": false,
    "pycharm": {
     "name": "#%% md\n"
    }
   },
   "execution_count": 1
  },
  {
   "cell_type": "markdown",
   "source": [
    "<b>Optimization is basically divided into two. Removing the variables that cause multiple linear regression or are unnecessary in estimating the target variable. The estimation parameters of the feature variables are weighted according to their importance in estimating the target variable, and in this way, the complexity of the model is balanced between error due to the bias of the model and error due to its variance. The technique is called regularization."
   ],
   "metadata": {
    "collapsed": false,
    "pycharm": {
     "name": "#%% md\n"
    }
   }
  },
  {
   "cell_type": "markdown",
   "source": [
    "<b>The first of the mentioned regularization techniques is L1 and the second is L2."
   ],
   "metadata": {
    "collapsed": false,
    "pycharm": {
     "name": "#%% md\n"
    }
   }
  },
  {
   "cell_type": "markdown",
   "source": [
    "# 1-) Lasso Regression"
   ],
   "metadata": {
    "collapsed": false,
    "pycharm": {
     "name": "#%% md\n"
    }
   }
  },
  {
   "cell_type": "markdown",
   "source": [
    "<b>The process of regularization the weights of the features towards zero using Lasso L1 regularization is called penalization or shrinkage."
   ],
   "metadata": {
    "collapsed": false,
    "pycharm": {
     "name": "#%% md\n"
    }
   }
  },
  {
   "cell_type": "markdown",
   "source": [
    "# Cost Function\n",
    "# $RSS = \\sum_{j=1}^{n}(y_{j} - \\hat{y}_{j})^{2}$\n",
    "<b> n : number of observations"
   ],
   "metadata": {
    "collapsed": false,
    "pycharm": {
     "name": "#%% md\n"
    }
   }
  },
  {
   "cell_type": "markdown",
   "source": [
    "# Penalty Term\n",
    "# $L1\\sum_{j=1}^{p}\\left| \\beta _{j}\\right|$\n",
    "<b> p : number of features"
   ],
   "metadata": {
    "collapsed": false,
    "pycharm": {
     "name": "#%% md\n"
    }
   }
  },
  {
   "cell_type": "markdown",
   "source": [
    "# Lasso L1 regulation cost function\n",
    "# $RSS_{LASSO} = \\sum_{j=1}^{n}(y_{j} - \\hat{y}_{j})^{2}+L1\\sum_{j=1}^{p}\\left| \\beta _{j}\\right|$"
   ],
   "metadata": {
    "collapsed": false,
    "pycharm": {
     "name": "#%% md\n"
    }
   }
  },
  {
   "cell_type": "code",
   "execution_count": 53,
   "outputs": [],
   "source": [
    "import math\n",
    "import numpy as np\n",
    "import pandas as pd\n",
    "import matplotlib.pyplot as plt\n",
    "import seaborn as sns\n",
    "from sklearn.model_selection import train_test_split,GridSearchCV,cross_val_score\n",
    "from sklearn.linear_model import Lasso,Ridge,ElasticNet,LinearRegression\n",
    "from sklearn.metrics import r2_score,mean_squared_error,mean_absolute_error"
   ],
   "metadata": {
    "collapsed": false,
    "pycharm": {
     "name": "#%%\n"
    }
   }
  },
  {
   "cell_type": "code",
   "execution_count": 2,
   "outputs": [
    {
     "data": {
      "text/plain": "   Unnamed: 0  price  rooms  m2  floor  age\n0           0    475      1  40      0    6\n1           1    475      1  55      0    5\n2           2    450      1  50      0    7\n3           3    450      1  55      1    6\n4           4    475      1  45      2    7",
      "text/html": "<div>\n<style scoped>\n    .dataframe tbody tr th:only-of-type {\n        vertical-align: middle;\n    }\n\n    .dataframe tbody tr th {\n        vertical-align: top;\n    }\n\n    .dataframe thead th {\n        text-align: right;\n    }\n</style>\n<table border=\"1\" class=\"dataframe\">\n  <thead>\n    <tr style=\"text-align: right;\">\n      <th></th>\n      <th>Unnamed: 0</th>\n      <th>price</th>\n      <th>rooms</th>\n      <th>m2</th>\n      <th>floor</th>\n      <th>age</th>\n    </tr>\n  </thead>\n  <tbody>\n    <tr>\n      <th>0</th>\n      <td>0</td>\n      <td>475</td>\n      <td>1</td>\n      <td>40</td>\n      <td>0</td>\n      <td>6</td>\n    </tr>\n    <tr>\n      <th>1</th>\n      <td>1</td>\n      <td>475</td>\n      <td>1</td>\n      <td>55</td>\n      <td>0</td>\n      <td>5</td>\n    </tr>\n    <tr>\n      <th>2</th>\n      <td>2</td>\n      <td>450</td>\n      <td>1</td>\n      <td>50</td>\n      <td>0</td>\n      <td>7</td>\n    </tr>\n    <tr>\n      <th>3</th>\n      <td>3</td>\n      <td>450</td>\n      <td>1</td>\n      <td>55</td>\n      <td>1</td>\n      <td>6</td>\n    </tr>\n    <tr>\n      <th>4</th>\n      <td>4</td>\n      <td>475</td>\n      <td>1</td>\n      <td>45</td>\n      <td>2</td>\n      <td>7</td>\n    </tr>\n  </tbody>\n</table>\n</div>"
     },
     "execution_count": 2,
     "metadata": {},
     "output_type": "execute_result"
    }
   ],
   "source": [
    "df = pd.read_csv(r'D:\\githubProjects\\Machine-Learning\\Supervised Learning\\Model Regularization\\real_estate')\n",
    "df.head()"
   ],
   "metadata": {
    "collapsed": false,
    "pycharm": {
     "name": "#%%\n"
    }
   }
  },
  {
   "cell_type": "code",
   "execution_count": 3,
   "outputs": [
    {
     "data": {
      "text/plain": "(191, 5)"
     },
     "execution_count": 3,
     "metadata": {},
     "output_type": "execute_result"
    }
   ],
   "source": [
    "df.drop('Unnamed: 0',axis=1,inplace=True)\n",
    "df.shape"
   ],
   "metadata": {
    "collapsed": false,
    "pycharm": {
     "name": "#%%\n"
    }
   }
  },
  {
   "cell_type": "markdown",
   "source": [
    "<b>HOLD-OUT"
   ],
   "metadata": {
    "collapsed": false,
    "pycharm": {
     "name": "#%% md\n"
    }
   }
  },
  {
   "cell_type": "code",
   "execution_count": 4,
   "outputs": [],
   "source": [
    "X = df.drop('price',axis=1)\n",
    "y = df['price']\n",
    "\n",
    "X_train, X_test, y_train, y_test = train_test_split(X, y,\n",
    "                                                    test_size=0.2,\n",
    "                                                    random_state=42)"
   ],
   "metadata": {
    "collapsed": false,
    "pycharm": {
     "name": "#%%\n"
    }
   }
  },
  {
   "cell_type": "markdown",
   "source": [
    "<b> Lasso Model"
   ],
   "metadata": {
    "collapsed": false,
    "pycharm": {
     "name": "#%% md\n"
    }
   }
  },
  {
   "cell_type": "code",
   "execution_count": 5,
   "outputs": [
    {
     "data": {
      "text/plain": "Lasso(random_state=42)",
      "text/html": "<style>#sk-container-id-1 {color: black;background-color: white;}#sk-container-id-1 pre{padding: 0;}#sk-container-id-1 div.sk-toggleable {background-color: white;}#sk-container-id-1 label.sk-toggleable__label {cursor: pointer;display: block;width: 100%;margin-bottom: 0;padding: 0.3em;box-sizing: border-box;text-align: center;}#sk-container-id-1 label.sk-toggleable__label-arrow:before {content: \"▸\";float: left;margin-right: 0.25em;color: #696969;}#sk-container-id-1 label.sk-toggleable__label-arrow:hover:before {color: black;}#sk-container-id-1 div.sk-estimator:hover label.sk-toggleable__label-arrow:before {color: black;}#sk-container-id-1 div.sk-toggleable__content {max-height: 0;max-width: 0;overflow: hidden;text-align: left;background-color: #f0f8ff;}#sk-container-id-1 div.sk-toggleable__content pre {margin: 0.2em;color: black;border-radius: 0.25em;background-color: #f0f8ff;}#sk-container-id-1 input.sk-toggleable__control:checked~div.sk-toggleable__content {max-height: 200px;max-width: 100%;overflow: auto;}#sk-container-id-1 input.sk-toggleable__control:checked~label.sk-toggleable__label-arrow:before {content: \"▾\";}#sk-container-id-1 div.sk-estimator input.sk-toggleable__control:checked~label.sk-toggleable__label {background-color: #d4ebff;}#sk-container-id-1 div.sk-label input.sk-toggleable__control:checked~label.sk-toggleable__label {background-color: #d4ebff;}#sk-container-id-1 input.sk-hidden--visually {border: 0;clip: rect(1px 1px 1px 1px);clip: rect(1px, 1px, 1px, 1px);height: 1px;margin: -1px;overflow: hidden;padding: 0;position: absolute;width: 1px;}#sk-container-id-1 div.sk-estimator {font-family: monospace;background-color: #f0f8ff;border: 1px dotted black;border-radius: 0.25em;box-sizing: border-box;margin-bottom: 0.5em;}#sk-container-id-1 div.sk-estimator:hover {background-color: #d4ebff;}#sk-container-id-1 div.sk-parallel-item::after {content: \"\";width: 100%;border-bottom: 1px solid gray;flex-grow: 1;}#sk-container-id-1 div.sk-label:hover label.sk-toggleable__label {background-color: #d4ebff;}#sk-container-id-1 div.sk-serial::before {content: \"\";position: absolute;border-left: 1px solid gray;box-sizing: border-box;top: 0;bottom: 0;left: 50%;z-index: 0;}#sk-container-id-1 div.sk-serial {display: flex;flex-direction: column;align-items: center;background-color: white;padding-right: 0.2em;padding-left: 0.2em;position: relative;}#sk-container-id-1 div.sk-item {position: relative;z-index: 1;}#sk-container-id-1 div.sk-parallel {display: flex;align-items: stretch;justify-content: center;background-color: white;position: relative;}#sk-container-id-1 div.sk-item::before, #sk-container-id-1 div.sk-parallel-item::before {content: \"\";position: absolute;border-left: 1px solid gray;box-sizing: border-box;top: 0;bottom: 0;left: 50%;z-index: -1;}#sk-container-id-1 div.sk-parallel-item {display: flex;flex-direction: column;z-index: 1;position: relative;background-color: white;}#sk-container-id-1 div.sk-parallel-item:first-child::after {align-self: flex-end;width: 50%;}#sk-container-id-1 div.sk-parallel-item:last-child::after {align-self: flex-start;width: 50%;}#sk-container-id-1 div.sk-parallel-item:only-child::after {width: 0;}#sk-container-id-1 div.sk-dashed-wrapped {border: 1px dashed gray;margin: 0 0.4em 0.5em 0.4em;box-sizing: border-box;padding-bottom: 0.4em;background-color: white;}#sk-container-id-1 div.sk-label label {font-family: monospace;font-weight: bold;display: inline-block;line-height: 1.2em;}#sk-container-id-1 div.sk-label-container {text-align: center;}#sk-container-id-1 div.sk-container {/* jupyter's `normalize.less` sets `[hidden] { display: none; }` but bootstrap.min.css set `[hidden] { display: none !important; }` so we also need the `!important` here to be able to override the default hidden behavior on the sphinx rendered scikit-learn.org. See: https://github.com/scikit-learn/scikit-learn/issues/21755 */display: inline-block !important;position: relative;}#sk-container-id-1 div.sk-text-repr-fallback {display: none;}</style><div id=\"sk-container-id-1\" class=\"sk-top-container\"><div class=\"sk-text-repr-fallback\"><pre>Lasso(random_state=42)</pre><b>In a Jupyter environment, please rerun this cell to show the HTML representation or trust the notebook. <br />On GitHub, the HTML representation is unable to render, please try loading this page with nbviewer.org.</b></div><div class=\"sk-container\" hidden><div class=\"sk-item\"><div class=\"sk-estimator sk-toggleable\"><input class=\"sk-toggleable__control sk-hidden--visually\" id=\"sk-estimator-id-1\" type=\"checkbox\" checked><label for=\"sk-estimator-id-1\" class=\"sk-toggleable__label sk-toggleable__label-arrow\">Lasso</label><div class=\"sk-toggleable__content\"><pre>Lasso(random_state=42)</pre></div></div></div></div></div>"
     },
     "execution_count": 5,
     "metadata": {},
     "output_type": "execute_result"
    }
   ],
   "source": [
    "lasso = Lasso(random_state=42)\n",
    "lasso.fit(X_train,y_train)"
   ],
   "metadata": {
    "collapsed": false,
    "pycharm": {
     "name": "#%%\n"
    }
   }
  },
  {
   "cell_type": "code",
   "execution_count": 6,
   "outputs": [],
   "source": [
    "train_score = lasso.score(X_train,y_train)\n",
    "test_score = lasso.score(X_test,y_test)\n",
    "coeff_used = np.sum(lasso.coef_!=0)"
   ],
   "metadata": {
    "collapsed": false,
    "pycharm": {
     "name": "#%%\n"
    }
   }
  },
  {
   "cell_type": "code",
   "execution_count": 7,
   "outputs": [
    {
     "name": "stdout",
     "output_type": "stream",
     "text": [
      "Train R2 : 0.7324650909211012\n",
      "Test R2 : 0.6862906745619393\n",
      "Number of features with a weight greater than zero : 4\n"
     ]
    }
   ],
   "source": [
    "print('Train R2 :',train_score)\n",
    "print('Test R2 :',test_score)\n",
    "print('Number of features with a weight greater than zero :',coeff_used)"
   ],
   "metadata": {
    "collapsed": false,
    "pycharm": {
     "name": "#%%\n"
    }
   }
  },
  {
   "cell_type": "markdown",
   "source": [
    "<b>The alpha parameter was used as 1. Now let's look at the model performance for different alpha values."
   ],
   "metadata": {
    "collapsed": false,
    "pycharm": {
     "name": "#%% md\n"
    }
   }
  },
  {
   "cell_type": "markdown",
   "source": [
    "<b>alpha = 0.01"
   ],
   "metadata": {
    "collapsed": false,
    "pycharm": {
     "name": "#%% md\n"
    }
   }
  },
  {
   "cell_type": "code",
   "execution_count": 8,
   "outputs": [
    {
     "name": "stdout",
     "output_type": "stream",
     "text": [
      "Train R2 (alpha = 0.01) : 0.7337398316689663\n",
      "Test R2 (alpha = 0.01) : 0.6986142688656938\n",
      "Number of features with a weight greater than zero (alpha = 0.01) : 4\n"
     ]
    }
   ],
   "source": [
    "lasso001 = Lasso(alpha=0.01,random_state=42,max_iter=1000000)\n",
    "lasso001.fit(X_train,y_train)\n",
    "\n",
    "train_score001 = lasso001.score(X_train,y_train)\n",
    "test_score001 = lasso001.score(X_test,y_test)\n",
    "\n",
    "coeff_used001 = np.sum(lasso001.coef_ !=0)\n",
    "\n",
    "print('Train R2 (alpha = 0.01) :',train_score001)\n",
    "print('Test R2 (alpha = 0.01) :',test_score001)\n",
    "print('Number of features with a weight greater than zero (alpha = 0.01) :',coeff_used001)"
   ],
   "metadata": {
    "collapsed": false,
    "pycharm": {
     "name": "#%%\n"
    }
   }
  },
  {
   "cell_type": "markdown",
   "source": [
    "<b>alpha = 0.001"
   ],
   "metadata": {
    "collapsed": false,
    "pycharm": {
     "name": "#%% md\n"
    }
   }
  },
  {
   "cell_type": "code",
   "execution_count": 9,
   "outputs": [
    {
     "name": "stdout",
     "output_type": "stream",
     "text": [
      "Train R2 (alpha = 0.001) : 0.7337399616438325\n",
      "Test R2 (alpha = 0.001) : 0.6987270960928149\n",
      "Number of features with a weight greater than zero (alpha = 0.001) : 4\n"
     ]
    }
   ],
   "source": [
    "lasso00001 = Lasso(alpha=0.0001,random_state=42,max_iter=1000000)\n",
    "lasso00001.fit(X_train,y_train)\n",
    "\n",
    "train_score00001 = lasso00001.score(X_train,y_train)\n",
    "test_score00001 = lasso00001.score(X_test,y_test)\n",
    "\n",
    "coeff_used00001 = np.sum(lasso00001.coef_ !=0)\n",
    "\n",
    "print('Train R2 (alpha = 0.001) :',train_score00001)\n",
    "print('Test R2 (alpha = 0.001) :',test_score00001)\n",
    "print('Number of features with a weight greater than zero (alpha = 0.001) :',coeff_used00001)"
   ],
   "metadata": {
    "collapsed": false,
    "pycharm": {
     "name": "#%%\n"
    }
   }
  },
  {
   "cell_type": "markdown",
   "source": [
    "<b>Comparing the results with multiple linear regression"
   ],
   "metadata": {
    "collapsed": false,
    "pycharm": {
     "name": "#%% md\n"
    }
   }
  },
  {
   "cell_type": "code",
   "execution_count": 10,
   "outputs": [
    {
     "name": "stdout",
     "output_type": "stream",
     "text": [
      "Train R2 : 0.733739961656849\n",
      "Test R2 : 0.6987282352837991\n"
     ]
    }
   ],
   "source": [
    "lr = LinearRegression().fit(X_train,y_train)\n",
    "lr_train_score = lr.score(X_train,y_train)\n",
    "lr_test_score = lr.score(X_test,y_test)\n",
    "\n",
    "print('Train R2 :',lr_train_score)\n",
    "print('Test R2 :',lr_test_score)"
   ],
   "metadata": {
    "collapsed": false,
    "pycharm": {
     "name": "#%%\n"
    }
   }
  },
  {
   "cell_type": "code",
   "execution_count": 11,
   "outputs": [
    {
     "data": {
      "text/plain": "<Figure size 720x360 with 2 Axes>",
      "image/png": "[encoded data removed]"
     },
     "metadata": {},
     "output_type": "display_data"
    }
   ],
   "source": [
    "plt.figure(figsize=(10,5))\n",
    "plt.subplot(1,2,1)\n",
    "\n",
    "plt.plot((1,2,3,4),lr.coef_,alpha=0.7,linestyle='none',marker='o',markersize=15,color='orange',label='Linear Reg',zorder=2)\n",
    "\n",
    "plt.plot((1,2,3,4),lasso.coef_,alpha=1,linestyle='none',marker='x',markersize=10,color='black',label=r'Lasso $ \\alpha = 1$',zorder=7)\n",
    "\n",
    "plt.plot(0,lr.intercept_,alpha=0.7,linestyle='none',marker='o',markersize=15,color='orange')\n",
    "\n",
    "plt.plot(0,lasso.intercept_,alpha=1,linestyle='none',marker='x',markersize=10,color='black')\n",
    "\n",
    "plt.xticks([0,1,2,3,4],('constant term','rooms','m2','floor','age'),rotation='70')\n",
    "\n",
    "plt.xlabel('Features ',fontsize=13)\n",
    "\n",
    "plt.ylabel('Features coef',fontsize=13)\n",
    "\n",
    "plt.legend(fontsize=13,loc='upper right')\n",
    "\n",
    "plt.subplot(1,2,2)\n",
    "\n",
    "plt.plot((1,2,3,4),lr.coef_,alpha=0.7,linestyle='none',marker='o',markersize=15,color='orange',label='Linear Reg',zorder=2)\n",
    "\n",
    "plt.plot((1,2,3,4),lasso00001.coef_,alpha=1,linestyle='none',marker='+',markersize=10,color='black',label=r'Lasso $ \\alpha = 0.001$')\n",
    "\n",
    "plt.plot(0,lr.intercept_,alpha=0.7,linestyle='none',marker='o',markersize=15,color='orange')\n",
    "\n",
    "plt.plot(0,lasso00001.intercept_,alpha=1,linestyle='none',marker='x',markersize=10,color='black')\n",
    "\n",
    "plt.xticks([0,1,2,3,4],('constant term','rooms','m2','floor','age'),rotation='70')\n",
    "\n",
    "plt.xlabel('Features ',fontsize=13)\n",
    "\n",
    "plt.ylabel('Features coef',fontsize=13)\n",
    "plt.legend(fontsize=13,loc='upper right')\n",
    "\n",
    "plt.show()"
   ],
   "metadata": {
    "collapsed": false,
    "pycharm": {
     "name": "#%%\n"
    }
   }
  },
  {
   "cell_type": "markdown",
   "source": [
    "<b>As the alpha value approaches zero, the estimation parameters of the model created with Lasso approach the estimation parameters of the multiple linear regression. As the L1 penalty coefficient increases, the narrowing in some parameter coefficients becomes visible."
   ],
   "metadata": {
    "collapsed": false,
    "pycharm": {
     "name": "#%% md\n"
    }
   }
  },
  {
   "cell_type": "code",
   "execution_count": 12,
   "outputs": [
    {
     "data": {
      "text/plain": "array([103.4072838 ,   1.61924751,   7.08642243,  -4.05517555])"
     },
     "execution_count": 12,
     "metadata": {},
     "output_type": "execute_result"
    }
   ],
   "source": [
    "lasso.coef_"
   ],
   "metadata": {
    "collapsed": false,
    "pycharm": {
     "name": "#%%\n"
    }
   }
  },
  {
   "cell_type": "code",
   "execution_count": 13,
   "outputs": [
    {
     "data": {
      "text/plain": "array([118.34915944,   1.13314119,   7.09688539,  -4.66564465])"
     },
     "execution_count": 13,
     "metadata": {},
     "output_type": "execute_result"
    }
   ],
   "source": [
    "lasso00001.coef_"
   ],
   "metadata": {
    "collapsed": false,
    "pycharm": {
     "name": "#%%\n"
    }
   }
  },
  {
   "cell_type": "code",
   "execution_count": 14,
   "outputs": [
    {
     "data": {
      "text/plain": "array([118.35066956,   1.13309207,   7.09688622,  -4.66570638])"
     },
     "execution_count": 14,
     "metadata": {},
     "output_type": "execute_result"
    }
   ],
   "source": [
    "lr.coef_"
   ],
   "metadata": {
    "collapsed": false,
    "pycharm": {
     "name": "#%%\n"
    }
   }
  },
  {
   "cell_type": "markdown",
   "source": [
    "# 2-)Ridge Regression"
   ],
   "metadata": {
    "collapsed": false,
    "pycharm": {
     "name": "#%% md\n"
    }
   }
  },
  {
   "cell_type": "markdown",
   "source": [
    "<b>The Ridge algorithm, on the other hand, aims to reduce the cost of the model by applying the L2 regularization technique. While estimating the feature coefficients, it weights the features according to their importance in estimating the target variable, as in Lasso/L1.It does not exclude any feature."
   ],
   "metadata": {
    "collapsed": false,
    "pycharm": {
     "name": "#%% md\n"
    }
   }
  },
  {
   "cell_type": "markdown",
   "source": [
    "# $RSS_{RIDGE}=\\sum_{j=1}^{n}(y_{j}-\\hat{y}_{j})^{2} + L2\\sum_{j=1}^{p}\\left ( \\beta _{j} \\right )^2$"
   ],
   "metadata": {
    "collapsed": false,
    "pycharm": {
     "name": "#%% md\n"
    }
   }
  },
  {
   "cell_type": "markdown",
   "source": [
    "<b>Linear Model"
   ],
   "metadata": {
    "collapsed": false,
    "pycharm": {
     "name": "#%% md\n"
    }
   }
  },
  {
   "cell_type": "code",
   "execution_count": 15,
   "outputs": [],
   "source": [
    "lr= LinearRegression().fit(X_train,y_train)"
   ],
   "metadata": {
    "collapsed": false,
    "pycharm": {
     "name": "#%%\n"
    }
   }
  },
  {
   "cell_type": "markdown",
   "source": [
    "<b>Ridge Model"
   ],
   "metadata": {
    "collapsed": false,
    "pycharm": {
     "name": "#%% md\n"
    }
   }
  },
  {
   "cell_type": "code",
   "execution_count": 16,
   "outputs": [],
   "source": [
    "rr = Ridge(alpha=0.01,random_state=42).fit(X_train,y_train)   # L2 = alpha = 0.01\n",
    "\n",
    "rr100 =Ridge(alpha=100,random_state=42).fit(X_train,y_train)  # L2 = alpha = 100"
   ],
   "metadata": {
    "collapsed": false,
    "pycharm": {
     "name": "#%%\n"
    }
   }
  },
  {
   "cell_type": "code",
   "execution_count": 17,
   "outputs": [],
   "source": [
    "train_score = lr.score(X_train,y_train)\n",
    "test_score = lr.score(X_test,y_test)"
   ],
   "metadata": {
    "collapsed": false,
    "pycharm": {
     "name": "#%%\n"
    }
   }
  },
  {
   "cell_type": "markdown",
   "source": [
    "<b>alpha = 0.01 Ridge R2"
   ],
   "metadata": {
    "collapsed": false,
    "pycharm": {
     "name": "#%% md\n"
    }
   }
  },
  {
   "cell_type": "code",
   "execution_count": 18,
   "outputs": [],
   "source": [
    "ridge_train_score = rr.score(X_train,y_train)\n",
    "ridge_test_score = rr.score(X_test,y_test)"
   ],
   "metadata": {
    "collapsed": false,
    "pycharm": {
     "name": "#%%\n"
    }
   }
  },
  {
   "cell_type": "markdown",
   "source": [
    "<b>alpha = 100 Ridge R2"
   ],
   "metadata": {
    "collapsed": false,
    "pycharm": {
     "name": "#%% md\n"
    }
   }
  },
  {
   "cell_type": "code",
   "execution_count": 19,
   "outputs": [],
   "source": [
    "ridge_train_score100 = rr100.score(X_train,y_train)\n",
    "ridge_test_score100= rr100.score(X_test,y_test)"
   ],
   "metadata": {
    "collapsed": false,
    "pycharm": {
     "name": "#%%\n"
    }
   }
  },
  {
   "cell_type": "code",
   "execution_count": 20,
   "outputs": [
    {
     "name": "stdout",
     "output_type": "stream",
     "text": [
      "Train R2 Lin.Reg :  0.733739961656849\n",
      "Test R2 Lin.Reg :  0.6987282352837991\n",
      "Train R2 Ridge alpha = 0.01 : 0.7337398851682211\n",
      "Test R2 Ridge alpha = 0.01 : 0.698643301640363\n",
      "Train R2 Ridge alpha = 100 : 0.6682250934479661\n",
      "Test R2 Ridge alpha = 100 : 0.5584311823011989\n"
     ]
    }
   ],
   "source": [
    "print('Train R2 Lin.Reg : ',train_score)\n",
    "print('Test R2 Lin.Reg : ',test_score)\n",
    "print('Train R2 Ridge alpha = 0.01 :',ridge_train_score)\n",
    "print('Test R2 Ridge alpha = 0.01 :',ridge_test_score)\n",
    "print('Train R2 Ridge alpha = 100 :',ridge_train_score100)\n",
    "print('Test R2 Ridge alpha = 100 :',ridge_test_score100)"
   ],
   "metadata": {
    "collapsed": false,
    "pycharm": {
     "name": "#%%\n"
    }
   }
  },
  {
   "cell_type": "code",
   "execution_count": 21,
   "outputs": [
    {
     "data": {
      "text/plain": "<Figure size 720x360 with 2 Axes>",
      "image/png": "[encoded data removed]"
     },
     "metadata": {},
     "output_type": "display_data"
    }
   ],
   "source": [
    "plt.figure(figsize=(10,5))\n",
    "plt.subplot(1,2,1)\n",
    "\n",
    "plt.plot((1,2,3,4),lr.coef_,alpha=0.7,linestyle='none',marker='o',markersize=15,color='orange',label='Linear Reg',zorder=2)\n",
    "\n",
    "plt.plot((1,2,3,4),rr.coef_,alpha=1,linestyle='none',marker='x',markersize=10,color='black',label=r'Ridge $ \\alpha = 0.01$',zorder=7)\n",
    "\n",
    "plt.plot(0,lr.intercept_,alpha=0.7,linestyle='none',marker='o',markersize=15,color='orange')\n",
    "\n",
    "plt.plot(0,rr.intercept_,alpha=1,linestyle='none',marker='x',markersize=10,color='black')\n",
    "\n",
    "plt.xticks([0,1,2,3,4],('constant term','rooms','m2','floor','age'),rotation='70')\n",
    "\n",
    "plt.xlabel('Features ',fontsize=13)\n",
    "\n",
    "plt.ylabel('Features coef',fontsize=13)\n",
    "\n",
    "plt.legend(fontsize=13,loc='upper right')\n",
    "\n",
    "plt.subplot(1,2,2)\n",
    "\n",
    "plt.plot((1,2,3,4),lr.coef_,alpha=0.7,linestyle='none',marker='o',markersize=15,color='orange',label='Linear Reg',zorder=2)\n",
    "\n",
    "plt.plot((1,2,3,4),rr100.coef_,alpha=1,linestyle='none',marker='+',markersize=10,color='black',label=r'Ridge $ \\alpha = 100$')\n",
    "\n",
    "plt.plot(0,lr.intercept_,alpha=0.7,linestyle='none',marker='o',markersize=15,color='orange')\n",
    "\n",
    "plt.plot(0,rr100.intercept_,alpha=1,linestyle='none',marker='x',markersize=10,color='black')\n",
    "\n",
    "plt.xticks([0,1,2,3,4],('constant term','rooms','m2','floor','age'),rotation='70')\n",
    "\n",
    "plt.xlabel('Features ',fontsize=13)\n",
    "\n",
    "plt.ylabel('Features coef',fontsize=13)\n",
    "plt.legend(fontsize=13,loc='upper right')\n",
    "\n",
    "plt.show()"
   ],
   "metadata": {
    "collapsed": false,
    "pycharm": {
     "name": "#%%\n"
    }
   }
  },
  {
   "cell_type": "markdown",
   "source": [
    "<b>As in Lasso, the Ridge prediction parameters narrow as the alpha increases from 0 to 100. There is a significant narrowing in both the Lasso and Ridge model parameters constant term and number of rooms coefficients. This makes us think that the number of rooms feature may be the source of overimitation or overfitting."
   ],
   "metadata": {
    "collapsed": false,
    "pycharm": {
     "name": "#%% md\n"
    }
   }
  },
  {
   "cell_type": "markdown",
   "source": [
    "# 3-)Elastic-Net Regression"
   ],
   "metadata": {
    "collapsed": false,
    "pycharm": {
     "name": "#%% md\n"
    }
   }
  },
  {
   "cell_type": "markdown",
   "source": [
    "<b>Elastic-Net is an algorithm that combines the features of Lasso and Ridge regressions and aims to minimize the cost function. It uses both L1 and L2 regularization techniques to penalize the model so that it does not make mistakes."
   ],
   "metadata": {
    "collapsed": false,
    "pycharm": {
     "name": "#%% md\n"
    }
   }
  },
  {
   "cell_type": "markdown",
   "source": [
    "# $RSS_{ElasticNet}=\\sum_{j=1}^{n}(y_{j}-\\hat{y}_{j})^{2} + L\\left (\\eta \\sum_{j=1}^{p}\\left| \\beta _{j}\\right|+(1-\\eta )\\sum_{j=1}^{p}\\left ( \\beta _{j} \\right )^2  \\right )$\n",
    "\n",
    "<b> L : alpha\n",
    "<b> $\\eta$ : L1_ratio\n",
    "<b> $1-\\eta$ : L2_ratio"
   ],
   "metadata": {
    "collapsed": false,
    "pycharm": {
     "name": "#%% md\n"
    }
   }
  },
  {
   "cell_type": "code",
   "execution_count": 22,
   "outputs": [],
   "source": [
    "enet = ElasticNet(alpha=1,random_state=42).fit(X_train,y_train)\n",
    "\n",
    "train_score = enet.score(X_train,y_train)\n",
    "test_score = enet.score(X_test,y_test)\n",
    "coeff_used = np.sum(enet.coef_ !=0)"
   ],
   "metadata": {
    "collapsed": false,
    "pycharm": {
     "name": "#%%\n"
    }
   }
  },
  {
   "cell_type": "code",
   "execution_count": 23,
   "outputs": [
    {
     "name": "stdout",
     "output_type": "stream",
     "text": [
      "Train R2 alpha = 1 : 0.670871407649752\n",
      "Test R2 alpha = 1: 0.5627894869336407\n",
      "Number of features with a weight greater than zero (alpha = 1) : 4\n"
     ]
    }
   ],
   "source": [
    "print('Train R2 alpha = 1 :',train_score)\n",
    "print('Test R2 alpha = 1:',test_score)\n",
    "print('Number of features with a weight greater than zero (alpha = 1) :',coeff_used)"
   ],
   "metadata": {
    "collapsed": false,
    "pycharm": {
     "name": "#%%\n"
    }
   }
  },
  {
   "cell_type": "markdown",
   "source": [
    "<b>alpha = 0.01"
   ],
   "metadata": {
    "collapsed": false,
    "pycharm": {
     "name": "#%% md\n"
    }
   }
  },
  {
   "cell_type": "code",
   "execution_count": 24,
   "outputs": [],
   "source": [
    "enet001 = ElasticNet(alpha=0.01,random_state=42).fit(X_train,y_train)\n",
    "\n",
    "train_score001 = enet001.score(X_train,y_train)\n",
    "test_score001 = enet001.score(X_test,y_test)\n",
    "coeff_used001 = np.sum(enet001.coef_ !=0)"
   ],
   "metadata": {
    "collapsed": false,
    "pycharm": {
     "name": "#%%\n"
    }
   }
  },
  {
   "cell_type": "code",
   "execution_count": 25,
   "outputs": [
    {
     "name": "stdout",
     "output_type": "stream",
     "text": [
      "Train R2 aplha = 0.01: 0.7333501064823666\n",
      "Test R2 aplha = 0.01: 0.6923107858960038\n",
      "Number of features with a weight greater than zero (alpha = 0.01) : 4\n"
     ]
    }
   ],
   "source": [
    "print('Train R2 aplha = 0.01:',train_score001)\n",
    "print('Test R2 aplha = 0.01:',test_score001)\n",
    "print('Number of features with a weight greater than zero (alpha = 0.01) :',coeff_used001)"
   ],
   "metadata": {
    "collapsed": false,
    "pycharm": {
     "name": "#%%\n"
    }
   }
  },
  {
   "cell_type": "markdown",
   "source": [
    "<b> alpha = 100"
   ],
   "metadata": {
    "collapsed": false,
    "pycharm": {
     "name": "#%% md\n"
    }
   }
  },
  {
   "cell_type": "code",
   "execution_count": 26,
   "outputs": [],
   "source": [
    "enet100 = ElasticNet(alpha=100,random_state=42).fit(X_train,y_train)\n",
    "\n",
    "train_score100 = enet100.score(X_train,y_train)\n",
    "test_score100 = enet100.score(X_test,y_test)\n",
    "coeff_used100 = np.sum(enet100.coef_ !=0)"
   ],
   "metadata": {
    "collapsed": false,
    "pycharm": {
     "name": "#%%\n"
    }
   }
  },
  {
   "cell_type": "code",
   "execution_count": 27,
   "outputs": [
    {
     "name": "stdout",
     "output_type": "stream",
     "text": [
      "Train R2 aplha = 100: 0.5844501052872215\n",
      "Test R2 aplha = 100: 0.47748967369285467\n",
      "Number of features with a weight greater than zero (alpha = 100) : 3\n"
     ]
    }
   ],
   "source": [
    "print('Train R2 aplha = 100:',train_score100)\n",
    "print('Test R2 aplha = 100:',test_score100)\n",
    "print('Number of features with a weight greater than zero (alpha = 100) :',coeff_used100)"
   ],
   "metadata": {
    "collapsed": false,
    "pycharm": {
     "name": "#%%\n"
    }
   }
  },
  {
   "cell_type": "markdown",
   "source": [
    "<b>For alpha = 100, the coefficient of one of the Elastic Net model features has become zero and the number of features has decreased to 3, but all features are still used."
   ],
   "metadata": {
    "collapsed": false,
    "pycharm": {
     "name": "#%% md\n"
    }
   }
  },
  {
   "cell_type": "markdown",
   "source": [
    "<b>Linear Model"
   ],
   "metadata": {
    "collapsed": false,
    "pycharm": {
     "name": "#%% md\n"
    }
   }
  },
  {
   "cell_type": "code",
   "execution_count": 28,
   "outputs": [
    {
     "name": "stdout",
     "output_type": "stream",
     "text": [
      "Train R2 : 0.733739961656849\n",
      "Test R2 : 0.6987282352837991\n"
     ]
    }
   ],
   "source": [
    "lr = LinearRegression().fit(X_train,y_train)\n",
    "\n",
    "lr_train_score = lr.score(X_train,y_train)\n",
    "lr_test_score = lr.score(X_test,y_test)\n",
    "\n",
    "print('Train R2 :',lr_train_score)\n",
    "print('Test R2 :',lr_test_score)"
   ],
   "metadata": {
    "collapsed": false,
    "pycharm": {
     "name": "#%%\n"
    }
   }
  },
  {
   "cell_type": "code",
   "execution_count": 29,
   "outputs": [
    {
     "data": {
      "text/plain": "<Figure size 720x360 with 2 Axes>",
      "image/png": "[encoded data removed]"
     },
     "metadata": {},
     "output_type": "display_data"
    }
   ],
   "source": [
    "plt.figure(figsize=(10,5))\n",
    "plt.subplot(1,2,1)\n",
    "\n",
    "plt.plot((1,2,3,4),lr.coef_,alpha=0.7,linestyle='none',marker='o',markersize=15,color='orange',label='Linear Reg',zorder=2)\n",
    "\n",
    "plt.plot((1,2,3,4),enet001.coef_,alpha=1,linestyle='none',marker='x',markersize=10,color='black',label=r'ElasticNet $ \\alpha = 0.01$',zorder=7)\n",
    "\n",
    "plt.plot(0,lr.intercept_,alpha=0.7,linestyle='none',marker='o',markersize=15,color='orange')\n",
    "\n",
    "plt.plot(0,enet001.intercept_,alpha=1,linestyle='none',marker='x',markersize=10,color='black')\n",
    "\n",
    "plt.xticks([0,1,2,3,4],('constant term','rooms','m2','floor','age'),rotation='70')\n",
    "\n",
    "plt.xlabel('Features ',fontsize=13)\n",
    "\n",
    "plt.ylabel('Features coef',fontsize=13)\n",
    "\n",
    "plt.legend(fontsize=13,loc='upper right')\n",
    "\n",
    "plt.subplot(1,2,2)\n",
    "\n",
    "plt.plot((1,2,3,4),lr.coef_,alpha=0.7,linestyle='none',marker='o',markersize=15,color='orange',label='Linear Reg',zorder=2)\n",
    "\n",
    "plt.plot((1,2,3,4),enet100.coef_,alpha=1,linestyle='none',marker='+',markersize=10,color='black',label=r'ElasticNet $ \\alpha = 100$')\n",
    "\n",
    "plt.plot(0,lr.intercept_,alpha=0.7,linestyle='none',marker='o',markersize=15,color='orange')\n",
    "\n",
    "plt.plot(0,enet100.intercept_,alpha=1,linestyle='none',marker='x',markersize=10,color='black')\n",
    "\n",
    "plt.xticks([0,1,2,3,4],('constant term','rooms','m2','floor','age'),rotation='70')\n",
    "\n",
    "plt.xlabel('Features ',fontsize=13)\n",
    "\n",
    "plt.ylabel('Features coef',fontsize=13)\n",
    "plt.legend(fontsize=13,loc='upper right')\n",
    "\n",
    "plt.show()"
   ],
   "metadata": {
    "collapsed": false,
    "pycharm": {
     "name": "#%%\n"
    }
   }
  },
  {
   "cell_type": "code",
   "execution_count": 30,
   "outputs": [
    {
     "data": {
      "text/plain": "281.3000462397627"
     },
     "execution_count": 30,
     "metadata": {},
     "output_type": "execute_result"
    }
   ],
   "source": [
    "enet100.intercept_"
   ],
   "metadata": {
    "collapsed": false,
    "pycharm": {
     "name": "#%%\n"
    }
   }
  },
  {
   "cell_type": "code",
   "execution_count": 31,
   "outputs": [
    {
     "data": {
      "text/plain": "       ElasticNet (alpha=100) Features_coef\nrooms                              0.000000\nm2                                 4.233598\nfloor                              0.927409\nage                               -0.114527",
      "text/html": "<div>\n<style scoped>\n    .dataframe tbody tr th:only-of-type {\n        vertical-align: middle;\n    }\n\n    .dataframe tbody tr th {\n        vertical-align: top;\n    }\n\n    .dataframe thead th {\n        text-align: right;\n    }\n</style>\n<table border=\"1\" class=\"dataframe\">\n  <thead>\n    <tr style=\"text-align: right;\">\n      <th></th>\n      <th>ElasticNet (alpha=100) Features_coef</th>\n    </tr>\n  </thead>\n  <tbody>\n    <tr>\n      <th>rooms</th>\n      <td>0.000000</td>\n    </tr>\n    <tr>\n      <th>m2</th>\n      <td>4.233598</td>\n    </tr>\n    <tr>\n      <th>floor</th>\n      <td>0.927409</td>\n    </tr>\n    <tr>\n      <th>age</th>\n      <td>-0.114527</td>\n    </tr>\n  </tbody>\n</table>\n</div>"
     },
     "execution_count": 31,
     "metadata": {},
     "output_type": "execute_result"
    }
   ],
   "source": [
    "enet100_coef = pd.DataFrame(enet100.coef_,X.columns,columns=['ElasticNet (alpha=100) Features_coef'])\n",
    "enet100_coef"
   ],
   "metadata": {
    "collapsed": false,
    "pycharm": {
     "name": "#%%\n"
    }
   }
  },
  {
   "cell_type": "markdown",
   "source": [
    "# A practical method that gives the best results by trying alternative values for hyperparameters is the Grid Search technique. So let's do it practically instead of trying it one by one by hand."
   ],
   "metadata": {
    "collapsed": false,
    "pycharm": {
     "name": "#%% md\n"
    }
   }
  },
  {
   "cell_type": "markdown",
   "source": [
    "# 1-)Hyper Parameter Optimization with GridSearch for Lasso"
   ],
   "metadata": {
    "collapsed": false,
    "pycharm": {
     "name": "#%% md\n"
    }
   }
  },
  {
   "cell_type": "code",
   "execution_count": 36,
   "outputs": [],
   "source": [
    "lasso = Lasso(random_state=42).fit(X_train,y_train)\n",
    "\n",
    "params = {'alpha' : [0.000000000000001, 0.0000000001, 0.00000001, 0.0001, 0.001, 0.01, 1, 2, 3, 4, 5, 10, 20, 30, 50]}\n"
   ],
   "metadata": {
    "collapsed": false,
    "pycharm": {
     "name": "#%%\n"
    }
   }
  },
  {
   "cell_type": "code",
   "execution_count": 43,
   "outputs": [
    {
     "name": "stderr",
     "output_type": "stream",
     "text": [
      "C:\\ProgramData\\Anaconda3\\envs\\batuhan\\lib\\site-packages\\sklearn\\linear_model\\_coordinate_descent.py:648: ConvergenceWarning: Objective did not converge. You might want to increase the number of iterations, check the scale of the features or consider increasing regularisation. Duality gap: 1.909e+05, tolerance: 1.557e+02\n",
      "  model = cd_fast.enet_coordinate_descent(\n",
      "C:\\ProgramData\\Anaconda3\\envs\\batuhan\\lib\\site-packages\\sklearn\\linear_model\\_coordinate_descent.py:648: ConvergenceWarning: Objective did not converge. You might want to increase the number of iterations, check the scale of the features or consider increasing regularisation. Duality gap: 2.139e+05, tolerance: 1.481e+02\n",
      "  model = cd_fast.enet_coordinate_descent(\n",
      "C:\\ProgramData\\Anaconda3\\envs\\batuhan\\lib\\site-packages\\sklearn\\linear_model\\_coordinate_descent.py:648: ConvergenceWarning: Objective did not converge. You might want to increase the number of iterations, check the scale of the features or consider increasing regularisation. Duality gap: 1.829e+05, tolerance: 1.425e+02\n",
      "  model = cd_fast.enet_coordinate_descent(\n",
      "C:\\ProgramData\\Anaconda3\\envs\\batuhan\\lib\\site-packages\\sklearn\\linear_model\\_coordinate_descent.py:648: ConvergenceWarning: Objective did not converge. You might want to increase the number of iterations, check the scale of the features or consider increasing regularisation. Duality gap: 1.380e+05, tolerance: 1.295e+02\n",
      "  model = cd_fast.enet_coordinate_descent(\n",
      "C:\\ProgramData\\Anaconda3\\envs\\batuhan\\lib\\site-packages\\sklearn\\linear_model\\_coordinate_descent.py:648: ConvergenceWarning: Objective did not converge. You might want to increase the number of iterations, check the scale of the features or consider increasing regularisation. Duality gap: 1.579e+05, tolerance: 1.410e+02\n",
      "  model = cd_fast.enet_coordinate_descent(\n"
     ]
    },
    {
     "name": "stdout",
     "output_type": "stream",
     "text": [
      "BITTI\n"
     ]
    }
   ],
   "source": [
    "lasso_GS = GridSearchCV(estimator=lasso,param_grid=params,cv=5,scoring='r2').fit(X_train,y_train)\n",
    "print('BITTI')"
   ],
   "metadata": {
    "collapsed": false,
    "pycharm": {
     "name": "#%%\n"
    }
   }
  },
  {
   "cell_type": "code",
   "execution_count": 44,
   "outputs": [
    {
     "data": {
      "text/plain": "{'alpha': 1}"
     },
     "execution_count": 44,
     "metadata": {},
     "output_type": "execute_result"
    }
   ],
   "source": [
    "lasso_GS.best_params_"
   ],
   "metadata": {
    "collapsed": false,
    "pycharm": {
     "name": "#%%\n"
    }
   }
  },
  {
   "cell_type": "code",
   "execution_count": 51,
   "outputs": [],
   "source": [
    "lasso_final = lasso.set_params(**lasso_GS.best_params_).fit(X_train,y_train)"
   ],
   "metadata": {
    "collapsed": false,
    "pycharm": {
     "name": "#%%\n"
    }
   }
  },
  {
   "cell_type": "code",
   "execution_count": 52,
   "outputs": [
    {
     "data": {
      "text/plain": "0.6862906745619393"
     },
     "execution_count": 52,
     "metadata": {},
     "output_type": "execute_result"
    }
   ],
   "source": [
    "lasso_final.score(X_test,y_test)"
   ],
   "metadata": {
    "collapsed": false,
    "pycharm": {
     "name": "#%%\n"
    }
   }
  },
  {
   "cell_type": "markdown",
   "source": [
    "<b>CROS-VALIDATION"
   ],
   "metadata": {
    "collapsed": false,
    "pycharm": {
     "name": "#%% md\n"
    }
   }
  },
  {
   "cell_type": "code",
   "execution_count": 55,
   "outputs": [
    {
     "data": {
      "text/plain": "0.7070875030803956"
     },
     "execution_count": 55,
     "metadata": {},
     "output_type": "execute_result"
    }
   ],
   "source": [
    "all_accuracies = cross_val_score(lasso_final,X=X_train,y=y_train,cv=5)\n",
    "\n",
    "all_accuracies.mean()"
   ],
   "metadata": {
    "collapsed": false,
    "pycharm": {
     "name": "#%%\n"
    }
   }
  },
  {
   "cell_type": "code",
   "execution_count": 59,
   "outputs": [
    {
     "data": {
      "text/plain": "290.7383188226408"
     },
     "execution_count": 59,
     "metadata": {},
     "output_type": "execute_result"
    }
   ],
   "source": [
    "lasso_final.intercept_"
   ],
   "metadata": {
    "collapsed": false,
    "pycharm": {
     "name": "#%%\n"
    }
   }
  },
  {
   "cell_type": "code",
   "execution_count": 58,
   "outputs": [
    {
     "data": {
      "text/plain": "       Lasso (alpha=1) features coef\nrooms                     103.407284\nm2                          1.619248\nfloor                       7.086422\nage                        -4.055176",
      "text/html": "<div>\n<style scoped>\n    .dataframe tbody tr th:only-of-type {\n        vertical-align: middle;\n    }\n\n    .dataframe tbody tr th {\n        vertical-align: top;\n    }\n\n    .dataframe thead th {\n        text-align: right;\n    }\n</style>\n<table border=\"1\" class=\"dataframe\">\n  <thead>\n    <tr style=\"text-align: right;\">\n      <th></th>\n      <th>Lasso (alpha=1) features coef</th>\n    </tr>\n  </thead>\n  <tbody>\n    <tr>\n      <th>rooms</th>\n      <td>103.407284</td>\n    </tr>\n    <tr>\n      <th>m2</th>\n      <td>1.619248</td>\n    </tr>\n    <tr>\n      <th>floor</th>\n      <td>7.086422</td>\n    </tr>\n    <tr>\n      <th>age</th>\n      <td>-4.055176</td>\n    </tr>\n  </tbody>\n</table>\n</div>"
     },
     "execution_count": 58,
     "metadata": {},
     "output_type": "execute_result"
    }
   ],
   "source": [
    "pd.DataFrame(lasso_final.coef_, X.columns, columns=['Lasso (alpha=1) features coef'])"
   ],
   "metadata": {
    "collapsed": false,
    "pycharm": {
     "name": "#%%\n"
    }
   }
  },
  {
   "cell_type": "code",
   "execution_count": 60,
   "outputs": [
    {
     "name": "stdout",
     "output_type": "stream",
     "text": [
      "Train R2 : 0.7324650909211012\n",
      "Test R2 : 0.6862906745619393\n"
     ]
    }
   ],
   "source": [
    "print('Train R2 :',lasso_final.score(X_train,y_train))\n",
    "print('Test R2 :',lasso_final.score(X_test,y_test))"
   ],
   "metadata": {
    "collapsed": false,
    "pycharm": {
     "name": "#%%\n"
    }
   }
  },
  {
   "cell_type": "code",
   "execution_count": 63,
   "outputs": [
    {
     "data": {
      "text/plain": "   price  price_pred\n0    475  434.584450\n1    475  462.928338\n2    450  446.721749\n3    450  465.959585\n4    475  452.798357",
      "text/html": "<div>\n<style scoped>\n    .dataframe tbody tr th:only-of-type {\n        vertical-align: middle;\n    }\n\n    .dataframe tbody tr th {\n        vertical-align: top;\n    }\n\n    .dataframe thead th {\n        text-align: right;\n    }\n</style>\n<table border=\"1\" class=\"dataframe\">\n  <thead>\n    <tr style=\"text-align: right;\">\n      <th></th>\n      <th>price</th>\n      <th>price_pred</th>\n    </tr>\n  </thead>\n  <tbody>\n    <tr>\n      <th>0</th>\n      <td>475</td>\n      <td>434.584450</td>\n    </tr>\n    <tr>\n      <th>1</th>\n      <td>475</td>\n      <td>462.928338</td>\n    </tr>\n    <tr>\n      <th>2</th>\n      <td>450</td>\n      <td>446.721749</td>\n    </tr>\n    <tr>\n      <th>3</th>\n      <td>450</td>\n      <td>465.959585</td>\n    </tr>\n    <tr>\n      <th>4</th>\n      <td>475</td>\n      <td>452.798357</td>\n    </tr>\n  </tbody>\n</table>\n</div>"
     },
     "execution_count": 63,
     "metadata": {},
     "output_type": "execute_result"
    }
   ],
   "source": [
    "df['price_pred'] = lasso_final.predict(X)\n",
    "\n",
    "df[['price','price_pred']].head()"
   ],
   "metadata": {
    "collapsed": false,
    "pycharm": {
     "name": "#%%\n"
    }
   }
  },
  {
   "cell_type": "markdown",
   "source": [
    "<b>Let's look at the real prices and estimated prices of the houses with a graph."
   ],
   "metadata": {
    "collapsed": false,
    "pycharm": {
     "name": "#%% md\n"
    }
   }
  },
  {
   "cell_type": "code",
   "execution_count": 64,
   "outputs": [
    {
     "name": "stderr",
     "output_type": "stream",
     "text": [
      "No artists with labels found to put in legend.  Note that artists whose label start with an underscore are ignored when legend() is called with no argument.\n"
     ]
    },
    {
     "data": {
      "text/plain": "<Figure size 720x432 with 1 Axes>",
      "image/png": "[encoded data removed]"
     },
     "metadata": {},
     "output_type": "display_data"
    }
   ],
   "source": [
    "plt.figure(figsize=(10,6))\n",
    "plt.xticks(df['price'],df.index.values) # Location, labels\n",
    "plt.plot(df['price'],'g^')\n",
    "plt.xticks(df['price_pred'],df.index.values)\n",
    "plt.plot(df['price_pred'],'ro')\n",
    "plt.xlabel('for sale',fontsize=15)\n",
    "plt.ylabel('pred/real',fontsize=15)\n",
    "plt.legend(fontsize=13,loc='lower right')\n",
    "plt.show()"
   ],
   "metadata": {
    "collapsed": false,
    "pycharm": {
     "name": "#%%\n"
    }
   }
  },
  {
   "cell_type": "markdown",
   "source": [
    "<b> example"
   ],
   "metadata": {
    "collapsed": false,
    "pycharm": {
     "name": "#%% md\n"
    }
   }
  },
  {
   "cell_type": "code",
   "execution_count": 66,
   "outputs": [
    {
     "name": "stderr",
     "output_type": "stream",
     "text": [
      "C:\\ProgramData\\Anaconda3\\envs\\batuhan\\lib\\site-packages\\sklearn\\base.py:450: UserWarning: X does not have valid feature names, but Lasso was fitted with feature names\n",
      "  warnings.warn(\n"
     ]
    },
    {
     "data": {
      "text/plain": "array([766.88544391])"
     },
     "execution_count": 66,
     "metadata": {},
     "output_type": "execute_result"
    }
   ],
   "source": [
    "rooms = 3\n",
    "m2 = 105\n",
    "floor = 4\n",
    "age = 8\n",
    "\n",
    "lasso_final.predict([[rooms,m2,floor,age]])"
   ],
   "metadata": {
    "collapsed": false,
    "pycharm": {
     "name": "#%%\n"
    }
   }
  },
  {
   "cell_type": "code",
   "execution_count": null,
   "outputs": [],
   "source": [],
   "metadata": {
    "collapsed": false,
    "pycharm": {
     "name": "#%%\n"
    }
   }
  }
 ],
 "metadata": {
  "kernelspec": {
   "display_name": "Python 3",
   "language": "python",
   "name": "python3"
  },
  "language_info": {
   "codemirror_mode": {
    "name": "ipython",
    "version": 2
   },
   "file_extension": ".py",
   "mimetype": "text/x-python",
   "name": "python",
   "nbconvert_exporter": "python",
   "pygments_lexer": "ipython2",
   "version": "2.7.6"
  }
 },
 "nbformat": 4,
 "nbformat_minor": 0
}