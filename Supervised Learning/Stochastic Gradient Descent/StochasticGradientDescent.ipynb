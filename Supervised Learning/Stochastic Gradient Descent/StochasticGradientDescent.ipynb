{
 "cells": [
  {
   "cell_type": "markdown",
   "source": [
    "# STOCHASTIC GRADIENT DESCENT (SGD)"
   ],
   "metadata": {
    "collapsed": false,
    "pycharm": {
     "name": "#%% md\n"
    }
   }
  },
  {
   "cell_type": "markdown",
   "source": [
    "# $\\theta ^{j+1} := \\theta ^{j} - \\eta(\\epsilon _{j})x_{j}$\n",
    "\n",
    "<b>$\\theta ^{j+1}$ : Next location\n",
    "<b>$\\theta ^{j}$ : Current location\n",
    "<b>$\\eta$ : Learning coefficient\n",
    "<b>$\\epsilon_{j}$ : Error of J data point\n",
    "<b>$x_{j}$ : The value of the J th feature"
   ],
   "metadata": {
    "collapsed": false,
    "pycharm": {
     "name": "#%% md\n"
    }
   }
  },
  {
   "cell_type": "code",
   "execution_count": null,
   "outputs": [],
   "source": [],
   "metadata": {
    "collapsed": false,
    "pycharm": {
     "name": "#%%\n"
    }
   }
  }
 ],
 "metadata": {
  "kernelspec": {
   "display_name": "Python 3",
   "language": "python",
   "name": "python3"
  },
  "language_info": {
   "codemirror_mode": {
    "name": "ipython",
    "version": 2
   },
   "file_extension": ".py",
   "mimetype": "text/x-python",
   "name": "python",
   "nbconvert_exporter": "python",
   "pygments_lexer": "ipython2",
   "version": "2.7.6"
  }
 },
 "nbformat": 4,
 "nbformat_minor": 0
}