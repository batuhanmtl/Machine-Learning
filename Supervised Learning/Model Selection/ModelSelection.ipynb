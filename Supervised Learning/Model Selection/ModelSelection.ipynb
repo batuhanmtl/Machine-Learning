{
 "cells": [
  {
   "cell_type": "markdown",
   "source": [
    "# MODEL SELECTION"
   ],
   "metadata": {
    "collapsed": false,
    "pycharm": {
     "name": "#%% md\n"
    }
   }
  },
  {
   "cell_type": "markdown",
   "source": [
    "# 1) Ridge Regression\n",
    "\n",
    "# $RSS + \\alpha \\sum_{j=1}^{d}\\hat{\\beta }_{j}^{2}$"
   ],
   "metadata": {
    "collapsed": false,
    "pycharm": {
     "name": "#%% md\n"
    }
   }
  },
  {
   "cell_type": "markdown",
   "source": [
    "<b>By adding a new term to the RSS term in Ridge Regression, it aims to reduce the coefficients of the variables that do not contribute to the correlation. While determining the coefficients in the Ridge regression, the above term is tried to be minimized instead of RSS.</b>\n",
    "\n",
    "<b>You can think of the alpha in front of the total as a correction coefficient. This coefficient is determined by the user. With the help of this term, the beta coefficients are reduced. If the alpha value to be used is equal to zero, the result will be the same as the sum of the smallest squares. On the other hand, as the alpha value gets larger, the beta coefficients approach zero. For this reason, the selection of the alpha value that will give the best result is very important. For the alpha value that will give the most successful result, cross validation methods can be used.</b>\n",
    "\n",
    "<b>Ridge() function from the sklearn.linear_model module is used for Ridge regression in Python. In this function, we specify the value of $\\alpha $ with alpha argument. Also, by using the normalize=True argument, it is ensured that all variables are normalized and brought to the same scale.</b>"
   ],
   "metadata": {
    "collapsed": false,
    "pycharm": {
     "name": "#%% md\n"
    }
   }
  },
  {
   "cell_type": "code",
   "execution_count": 129,
   "outputs": [],
   "source": [
    "import pandas as pd\n",
    "\n",
    "bostondf = pd.read_csv('Boston.csv')\n",
    "\n",
    "X = bostondf.drop('medv',axis=1)\n",
    "y = bostondf['medv']"
   ],
   "metadata": {
    "collapsed": false,
    "pycharm": {
     "name": "#%%\n"
    }
   }
  },
  {
   "cell_type": "code",
   "execution_count": null,
   "outputs": [],
   "source": [
    "from sklearn.linear_model import Ridge\n",
    "\n",
    "ridge_model = Ridge(alpha=0.1,normalize=True)\n",
    "ridge_model.fit(X,y)\n",
    "ridge_model.score(X,y)"
   ],
   "metadata": {
    "collapsed": false,
    "pycharm": {
     "name": "#%%\n",
     "is_executing": true
    }
   }
  },
  {
   "cell_type": "code",
   "execution_count": 131,
   "outputs": [
    {
     "data": {
      "text/plain": "26.437529739426683"
     },
     "execution_count": 131,
     "metadata": {},
     "output_type": "execute_result"
    }
   ],
   "source": [
    "ridge_model.intercept_"
   ],
   "metadata": {
    "collapsed": false,
    "pycharm": {
     "name": "#%%\n"
    }
   }
  },
  {
   "cell_type": "code",
   "execution_count": 132,
   "outputs": [
    {
     "data": {
      "text/plain": "array([-8.39972182e-02,  3.01457989e-02, -4.51085108e-02,  2.91942377e+00,\n       -1.07499818e+01,  4.02329138e+00, -4.56047447e-03, -1.03180235e+00,\n        1.30441043e-01, -4.95778250e-03, -8.32529832e-01,  8.96754880e-03,\n       -4.57771753e-01])"
     },
     "execution_count": 132,
     "metadata": {},
     "output_type": "execute_result"
    }
   ],
   "source": [
    "ridge_model.coef_"
   ],
   "metadata": {
    "collapsed": false,
    "pycharm": {
     "name": "#%%\n"
    }
   }
  },
  {
   "cell_type": "markdown",
   "source": [
    "<b>Let's write a code that will do cross validation for different alpha values. First, let's create a logarithmic array from -4 to 0.1 (np.logspace(-4,0.1,100)). We use these values as alpha values in the for loop we created. For each alpha value We perform a 5-fold cross validation and record the average of the generated $R_{2}$ values (the cross_val_score function calculates the $R_{2}$ values), and then we select the alpha value that gives the highest $R_{2}$ value.</b>"
   ],
   "metadata": {
    "collapsed": false,
    "pycharm": {
     "name": "#%% md\n"
    }
   }
  },
  {
   "cell_type": "code",
   "execution_count": null,
   "outputs": [],
   "source": [
    "import numpy as np\n",
    "from sklearn.model_selection import cross_val_score\n",
    "\n",
    "alpha_values = np.logspace(-4,0.1,100)\n",
    "\n",
    "ridge_R2 = []\n",
    "\n",
    "ridge_model = Ridge(normalize=True)\n",
    "\n",
    "for alpha in alpha_values:\n",
    "    ridge_model.alpha = alpha\n",
    "    ridge_cv = cross_val_score(ridge_model,X,y,cv=5)\n",
    "    ridge_R2.append(np.mean(ridge_cv))\n",
    "\n",
    "ind = ridge_R2.index(max(ridge_R2))\n",
    "ind"
   ],
   "metadata": {
    "collapsed": false,
    "pycharm": {
     "name": "#%%\n",
     "is_executing": true
    }
   }
  },
  {
   "cell_type": "code",
   "execution_count": 134,
   "outputs": [
    {
     "data": {
      "text/plain": "0.3011534749602565"
     },
     "execution_count": 134,
     "metadata": {},
     "output_type": "execute_result"
    }
   ],
   "source": [
    "alpha_values[ind]"
   ],
   "metadata": {
    "collapsed": false,
    "pycharm": {
     "name": "#%%\n"
    }
   }
  },
  {
   "cell_type": "markdown",
   "source": [
    "<b>Let's see our results in a graph with alpha value and $R^{2}$ values.</b>"
   ],
   "metadata": {
    "collapsed": false,
    "pycharm": {
     "name": "#%% md\n"
    }
   }
  },
  {
   "cell_type": "code",
   "execution_count": 139,
   "outputs": [
    {
     "data": {
      "text/plain": "<Figure size 432x288 with 1 Axes>",
      "image/png": "[encoded data removed]"
     },
     "metadata": {
      "needs_background": "light"
     },
     "output_type": "display_data"
    }
   ],
   "source": [
    "import  matplotlib.pyplot as plt\n",
    "\n",
    "plt.plot(alpha_values,ridge_R2,'r-')\n",
    "plt.xlabel('alpha values')\n",
    "plt.ylabel('$R^{2}$')\n",
    "\n",
    "plt.show()"
   ],
   "metadata": {
    "collapsed": false,
    "pycharm": {
     "name": "#%%\n"
    }
   }
  },
  {
   "cell_type": "markdown",
   "source": [
    "# 2) Lasso Regression"
   ],
   "metadata": {
    "collapsed": false,
    "pycharm": {
     "name": "#%% md\n"
    }
   }
  },
  {
   "cell_type": "markdown",
   "source": [
    "<b>Lasso regression is also similar to Ridge regression. The aim is to reduce the coefficients of variables that have little contribution to the model. The advantage of Lasso regression over Ridge regression is that it produces coefficients equal to zero, allowing the removal of unnecessary variables.</b>\n",
    "\n"
   ],
   "metadata": {
    "collapsed": false,
    "pycharm": {
     "name": "#%% md\n"
    }
   }
  },
  {
   "cell_type": "markdown",
   "source": [
    "# $RSS + \\alpha \\sum_{j=1}^{d}\\left|\\hat{\\beta _{j}} \\right|$"
   ],
   "metadata": {
    "collapsed": false,
    "pycharm": {
     "name": "#%% md\n"
    }
   }
  },
  {
   "cell_type": "code",
   "execution_count": null,
   "outputs": [],
   "source": [
    "from sklearn.linear_model import Lasso\n",
    "\n",
    "lasso_model = Lasso(alpha=0.1,normalize=True)\n",
    "lasso_model.fit(X,y)\n",
    "lasso_model.score(X,y)"
   ],
   "metadata": {
    "collapsed": false,
    "pycharm": {
     "name": "#%%\n",
     "is_executing": true
    }
   }
  },
  {
   "cell_type": "code",
   "execution_count": 137,
   "outputs": [
    {
     "data": {
      "text/plain": "13.957552992158897"
     },
     "execution_count": 137,
     "metadata": {},
     "output_type": "execute_result"
    }
   ],
   "source": [
    "lasso_model.intercept_"
   ],
   "metadata": {
    "collapsed": false,
    "pycharm": {
     "name": "#%%\n"
    }
   }
  },
  {
   "cell_type": "code",
   "execution_count": 138,
   "outputs": [
    {
     "data": {
      "text/plain": "array([-0.        ,  0.        , -0.        ,  0.        , -0.        ,\n        2.95469455, -0.        ,  0.        , -0.        , -0.        ,\n       -0.24795837,  0.        , -0.42817439])"
     },
     "execution_count": 138,
     "metadata": {},
     "output_type": "execute_result"
    }
   ],
   "source": [
    "lasso_model.coef_"
   ],
   "metadata": {
    "collapsed": false,
    "pycharm": {
     "name": "#%%\n"
    }
   }
  },
  {
   "cell_type": "markdown",
   "source": [
    "<b>When we examine the coefficients produced by the Ridge and Lasso regressions, we see that the coefficients of the unimportant variables for the model are calculated as very small values in the Ridge regression, while the coefficients exactly equal to zero are produced for these variables in Lasso.</b>"
   ],
   "metadata": {
    "collapsed": false,
    "pycharm": {
     "name": "#%% md\n"
    }
   }
  }
 ],
 "metadata": {
  "kernelspec": {
   "display_name": "Python 3",
   "language": "python",
   "name": "python3"
  },
  "language_info": {
   "codemirror_mode": {
    "name": "ipython",
    "version": 2
   },
   "file_extension": ".py",
   "mimetype": "text/x-python",
   "name": "python",
   "nbconvert_exporter": "python",
   "pygments_lexer": "ipython2",
   "version": "2.7.6"
  }
 },
 "nbformat": 4,
 "nbformat_minor": 0
}